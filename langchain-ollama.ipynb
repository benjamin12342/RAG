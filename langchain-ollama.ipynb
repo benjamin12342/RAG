{
 "cells": [
  {
   "cell_type": "code",
   "execution_count": 1,
   "metadata": {},
   "outputs": [
    {
     "name": "stderr",
     "output_type": "stream",
     "text": [
      "/tmp/ipykernel_1685442/3072841417.py:7: LangChainDeprecationWarning: The class `ChatOllama` was deprecated in LangChain 0.3.1 and will be removed in 1.0.0. An updated version of the class exists in the :class:`~langchain-ollama package and should be used instead. To use it run `pip install -U :class:`~langchain-ollama` and import as `from :class:`~langchain_ollama import ChatOllama``.\n",
      "  llm = ChatOllama(model = \"llama3.1\")\n"
     ]
    }
   ],
   "source": [
    "from langchain_community.chat_models import ChatOllama\n",
    "import os\n",
    "\n",
    "from langchain_unstructured import UnstructuredLoader\n",
    "from langchain_community.embeddings.huggingface import HuggingFaceBgeEmbeddings\n",
    "from langchain_text_splitters import RecursiveCharacterTextSplitter\n",
    "llm = ChatOllama(model = \"llama3.1\")"
   ]
  },
  {
   "cell_type": "code",
   "execution_count": 2,
   "metadata": {},
   "outputs": [],
   "source": [
    "import torch"
   ]
  },
  {
   "cell_type": "code",
   "execution_count": 3,
   "metadata": {},
   "outputs": [
    {
     "name": "stdout",
     "output_type": "stream",
     "text": [
      "文件路径: /home/wangao/RAG/test.pdf\n"
     ]
    }
   ],
   "source": [
    "file_path = \"test.pdf\"\n",
    "print(\"文件路径:\", os.path.abspath(file_path))\n"
   ]
  },
  {
   "cell_type": "code",
   "execution_count": 11,
   "metadata": {},
   "outputs": [
    {
     "name": "stderr",
     "output_type": "stream",
     "text": [
      "WARNING: Ignoring (part of) ToUnicode map because the PDF data does not conform to the format. This could result in (cid) values in the output. The start object is not a byte.\n"
     ]
    },
    {
     "name": "stderr",
     "output_type": "stream",
     "text": [
      "WARNING: Ignoring (part of) ToUnicode map because the PDF data does not conform to the format. This could result in (cid) values in the output. The start object is not a byte.\n"
     ]
    },
    {
     "name": "stdout",
     "output_type": "stream",
     "text": [
      "分割后的文档数量: 251\n",
      "前两个分割后的文档内容示例:\n",
      "文档 1 (页码 1):\n",
      "상표법\n",
      "상표법\n",
      "[시행 2024. 8. 7.] [법률 제20200호, 2024. 2. 6., 타법개정]\n",
      "제1장 총칙\n",
      "제1조(목적)\n",
      "제2조(정의)\n",
      "제3조(상표등록을 받을 수 있는 자)\n",
      "제4조(미성년자 등의 행위능력)\n",
      "제5조(법인이 아닌 사단 등)\n",
      "제6조(재외자의 상표관리인)\n",
      "제7조(대리권의 범위)\n",
      "제8조(대리권의 증명)\n",
      "제9조(행위능력 등의 흠에 대한 추인)\n",
      "제10조(대리권의 불소멸)\n",
      "제11조(개별대리)\n",
      "제12조(대리인의 선임 또는 교체 명령 등)\n",
      "제13조(복수당사자의 대표)\n",
      "제14조(「민사소송법」의 준용)\n",
      "제15조(재외자의 재판관할)\n",
      "제16조(기간의 계산)\n",
      "제17조(기간의 연장 등)\n",
      "제18조(절차의 무효)\n",
      "제19조(절차의 추후 보완)\n",
      "제20조(절차의 효력 승계)\n",
      "제21조(절차의 속행)\n",
      "제22조(절차의 중단)\n",
      "제23조(중단된 절차의 수계)\n",
      "제24조(수계신청)\n",
      "제25조(절차의 중지)\n",
      "제26조(중단 또는 중지의 효과)\n",
      "제27조(외국인의 권리능력)\n",
      "제28조(서류 제출의 효력 발생 시기)\n",
      "========================================\n",
      "文档 2 (页码 1):\n",
      "제27조(외국인의 권리능력)\n",
      "제28조(서류 제출의 효력 발생 시기)\n",
      "제29조(고유번호의 기재)\n",
      "제30조(전자문서에 의한 상표에 관한 절차의 수행)\n",
      "제31조(전자문서 이용신고 및 전자서명)\n",
      "제32조(정보통신망을 이용한 통지 등의 수행)\n",
      "제2장 상표등록요건 및 상표등록출원\n",
      "제33조(상표등록의 요건)\n",
      "제34조(상표등록을 받을 수 없는 상표)\n",
      "제35조(선출원)\n",
      "제36조(상표등록출원)\n",
      "제37조(상표등록출원일의 인정 등)\n",
      "제38조(1상표 1출원)\n",
      "제39조(절차의 보정)\n",
      "제40조(출원공고결정 전의 보정)\n",
      "법제처 1 국가법령정보센터\n",
      "========================================\n",
      "文档 1 长度: 497\n",
      "文档 2 长度: 292\n",
      "文档 3 长度: 491\n",
      "文档 4 长度: 401\n",
      "文档 5 长度: 464\n"
     ]
    }
   ],
   "source": [
    "\n",
    "from langchain.schema import Document\n",
    "import pdfplumber\n",
    "\n",
    "loader = UnstructuredLoader(file_path)\n",
    "docs = loader.load()  \n",
    "page_docs = []\n",
    "with pdfplumber.open(file_path) as pdf:\n",
    "    for page_number, page in enumerate(pdf.pages):\n",
    "        page_content = page.extract_text()  # 提取每页文本\n",
    "        if page_content:  # 检查是否成功提取文本\n",
    "            # 如果该页内容超出500字符，则进一步分割\n",
    "            if len(page_content) > 500:\n",
    "                split_texts = text_splitter.split_text(page_content)\n",
    "                for text in split_texts:\n",
    "                    page_docs.append({\n",
    "                        \"page_number\": page_number + 1,\n",
    "                        \"content\": text\n",
    "                    })\n",
    "            else:\n",
    "                # 如果内容不超过500字符，直接添加为一个文档\n",
    "                page_docs.append({\n",
    "                    \"page_number\": page_number + 1,\n",
    "                    \"content\": page_content\n",
    "                })\n",
    "\n"
   ]
  },
  {
   "cell_type": "code",
   "execution_count": 12,
   "metadata": {},
   "outputs": [
    {
     "name": "stderr",
     "output_type": "stream",
     "text": [
      "INFO: PyTorch version 2.5.1+cu121 available.\n",
      "INFO: Load pretrained SentenceTransformer: BAAI/bge-m3\n",
      "INFO: Anonymized telemetry enabled. See                     https://docs.trychroma.com/telemetry for more information.\n"
     ]
    }
   ],
   "source": [
    "documents = [\n",
    "    Document(page_content=doc[\"content\"], metadata={\"page_number\": doc[\"page_number\"]})\n",
    "    for doc in page_docs\n",
    "]\n",
    "\n",
    "model_name = \"BAAI/bge-m3\"\n",
    "model_kwargs = {\"device\": \"cuda\"}  \n",
    "encode_kwargs = {\"normalize_embeddings\": True}\n",
    "embeddings = HuggingFaceBgeEmbeddings(\n",
    "    model_name=model_name,\n",
    "    model_kwargs=model_kwargs,\n",
    "    encode_kwargs=encode_kwargs\n",
    ")\n",
    "\n",
    "vector_store = Chroma.from_documents(documents, embeddings)\n",
    "\n",
    "\n"
   ]
  },
  {
   "cell_type": "code",
   "execution_count": 13,
   "metadata": {},
   "outputs": [],
   "source": [
    "retriever = vector_store.as_retriever(\n",
    "    search_type=\"similarity_score_threshold\",\n",
    "    search_kwargs={\n",
    "        \"k\": 5,\n",
    "        \"score_threshold\": 0.1,\n",
    "    },\n",
    ")"
   ]
  },
  {
   "cell_type": "code",
   "execution_count": 14,
   "metadata": {},
   "outputs": [],
   "source": [
    "from langchain.prompts import PromptTemplate\n",
    "prompt = PromptTemplate.from_template(\"\"\"Anser the quetion using the provided context. if the answer is not contained in context, say \"can not find in context\"\\n\\n\n",
    "                                      Context:{context}\n",
    "                                      Question{question}\n",
    "                                      Answer:\n",
    "                                      \n",
    "                                      \"\"\")"
   ]
  },
  {
   "cell_type": "code",
   "execution_count": 15,
   "metadata": {},
   "outputs": [],
   "source": [
    "from langchain.schema.runnable import RunnablePassthrough\n",
    "from langchain.schema.output_parser import StrOutputParser\n",
    "chain = (\n",
    "     {\n",
    "          \"context\":retriever, \"question\":RunnablePassthrough()\n",
    "     }\n",
    "     | prompt\n",
    "     | llm\n",
    "     |StrOutputParser()\n",
    ")"
   ]
  },
  {
   "cell_type": "code",
   "execution_count": 22,
   "metadata": {},
   "outputs": [
    {
     "name": "stderr",
     "output_type": "stream",
     "text": [
      "/home/wangao/.v12/lib/python3.12/site-packages/langchain_core/vectorstores/base.py:1083: UserWarning: Relevance scores must be between 0 and 1, got [(Document(metadata={'page_number': 5}, page_content='제185조(보정의 특례)\\n제186조(출원 변경의 특례)\\n제187조(출원 분할의 특례)\\n제188조(파리협약에 따른 우선권 주장의 특례)\\n제189조(출원 시 및 우선심사의 특례)\\n제190조(거절이유 통지의 특례)\\n제191조(출원공고의 특례)\\n제192조(손실보상청구권의 특례)\\n제193조(상표등록결정 및 직권에 의한 보정 등의 특례)\\n제193조의2(재심사 청구의 특례)\\n제193조의3(상표등록여부결정의 방식에 관한 특례)\\n제194조(상표등록료 등의 특례)\\n제195조(상표등록료 등의 반환의 특례)\\n제196조(상표원부에의 등록의 특례)\\n제197조(상표권 설정등록의 특례)\\n제198조(상표권 존속기간 등의 특례)\\n제199조(지정상품추가등록출원의 특례)\\n제200조\\n제201조(상표권등록 효력의 특례)\\n제202조(국제등록 소멸의 효과)\\n제203조(상표권 포기의 특례)\\n제204조(존속기간갱신등록의 무효심판 등의 특례)\\n제3절 상표등록출원의 특례\\n제205조(국제등록 소멸 후의 상표등록출원의 특례)'), -0.06226546094590413), (Document(metadata={'page_number': 44}, page_content='제9장 「표장의 국제등록에 관한 마드리드협정에 대한 의정서」에 따른 국제출원\\n제1절 국제출원 등\\n제167조(국제출원) 「표장의 국제등록에 관한 마드리드협정에 대한 의정서」(이하 “마드리드 의정서”라 한다) 제2조(1)에\\n따른 국제등록(이하 “국제등록”이라 한다)을 받으려는 자는 다음 각 호의 어느 하나에 해당하는 상표등록출원 또는\\n법제처 44 국가법령정보센터'), -0.0787676380118596), (Document(metadata={'page_number': 45}, page_content='터 그 효력이 발생한다. 우편으로 제출된 경우에도 또한 같다.\\n제171조(기재사항의 심사 등) ① 특허청장은 국제출원서의 기재사항이 기초출원 또는 기초등록의 기재사항과 합치하\\n는 경우에는 그 사실을 인정한다는 뜻과 국제출원서가 특허청에 도달한 날을 국제출원서에 적어야 한다.\\n② 특허청장은 제1항에 따라 도달일 등을 적은 후에는 즉시 국제출원서 및 국제출원에 필요한 서류를 마드리드 의\\n정서 제2조(1)에 따른 국제사무국(이하 “국제사무국”이라 한다)에 보내고, 그 국제출원서의 사본을 해당 출원인에게\\n보내야 한다.\\n제172조(사후지정) ① 국제등록의 명의인(이하 “국제등록명의인”이라 한다)은 국제등록된 지정국을 추가로 지정(이하\\n“사후지정”이라 한다)하려는 경우에는 산업통상자원부령으로 정하는 바에 따라 특허청장에게 사후지정을 신청할 수\\n있다.\\n② 제1항을 적용하는 경우 국제등록명의인은 국제등록된 지정상품의 전부 또는 일부에 대하여 사후지정을 할 수 있\\n다.'), -0.0792307475832974), (Document(metadata={'page_number': 40}, page_content='상표법\\n제136조(심판관의 기피) ① 심판관에게 공정한 심판을 기대하기 어려운 사정이 있으면 당사자 또는 참가인은 기피신청\\n을 할 수 있다.\\n② 당사자 또는 참가인은 사건에 대하여 심판관에게 서면 또는 말로 진술을 한 후에는 기피신청을 할 수 없다. 다만,\\n기피의 원인이 있는 것을 알지 못한 경우 또는 기피의 원인이 그 후에 발생한 경우에는 그러하지 아니하다.\\n제137조(제척 또는 기피의 소명) ① 제135조 및 제136조에 따라 제척 또는 기피 신청을 하려는 자는 그 원인을 적은 서\\n면을 특허심판원장에게 제출하여야 한다. 다만, 구술심리를 할 경우에는 말로 할 수 있다.\\n② 제척 또는 기피의 원인은 신청한 날부터 3일 이내에 소명(疎明)하여야 한다.\\n제138조(제척 또는 기피 신청에 관한 결정) ① 제척 또는 기피 신청이 있으면 심판으로 결정하여야 한다.\\n② 제척 또는 기피 신청의 대상이 된 심판관은 그 제척 또는 기피에 대한 심판에 관여할 수 없다. 다만, 의견을 진술'), -0.08276830116621059), (Document(metadata={'page_number': 49}, page_content='② 국제등록기초상표권에 대하여 제103조를 적용할 경우 “상표권ㆍ전용사용권”은 “전용사용권”으로 본다.\\n제204조(존속기간갱신등록의 무효심판 등의 특례) 국제등록기초상표권에 대해서는 제118조 또는 제214조를 적용하지\\n아니한다.\\n제3절 상표등록출원의 특례\\n제205조(국제등록 소멸 후의 상표등록출원의 특례) ① 대한민국을 지정국으로 지정(사후지정을 포함한다)한 국제등록\\n의 대상인 상표가 지정상품의 전부 또는 일부에 관하여 마드리드 의정서 제6조(4)에 따라 그 국제등록이 소멸된 경\\n우에는 그 국제등록의 명의인은 그 상품의 전부 또는 일부에 관하여 특허청장에게 상표등록출원을 할 수 있다.\\n② 제1항에 따른 상표등록출원이 다음 각 호의 요건을 모두 갖춘 경우에는 국제등록일(사후지정의 경우에는 사후지\\n정일을 말한다)에 출원된 것으로 본다.\\n법제처 49 국가법령정보센터'), -0.09192276525017085)]\n",
      "  self.vectorstore.similarity_search_with_relevance_scores(\n",
      "WARNING: No relevant docs were retrieved using the relevance score threshold 0.1\n"
     ]
    },
    {
     "name": "stdout",
     "output_type": "stream",
     "text": [
      "Can't find in context\n"
     ]
    }
   ],
   "source": [
    "reponse = chain.invoke(\"what's the hight montain in the world?\")\n",
    "\n",
    "print(reponse)"
   ]
  },
  {
   "cell_type": "code",
   "execution_count": 21,
   "metadata": {},
   "outputs": [
    {
     "name": "stdout",
     "output_type": "stream",
     "text": [
      "Yes\n",
      "\n",
      "The context contains a series of documents with metadata and page content related to patent law, specifically regarding trademark registration and dispute resolution. In one of the documents (Document(metadata={'page_number': 38}), page_content='...'), there is a section on \"심판청구서 등의 각하에 관한 적용례\" which translates to \"Application examples for dismissal of petitions, etc.\".\n",
      "\n",
      "This suggests that the context indeed contains information related to \"심판청구서 등의 각하에 관한 적용례\".\n"
     ]
    }
   ],
   "source": [
    "reponse2 = chain.invoke(\"\"\"is \"심판청구서 등의 각하에 관한 적용례\" in the list?\"\"\")\n",
    "print(reponse2)"
   ]
  }
 ],
 "metadata": {
  "kernelspec": {
   "display_name": "Python (.v12)",
   "language": "python",
   "name": "python3"
  },
  "language_info": {
   "codemirror_mode": {
    "name": "ipython",
    "version": 3
   },
   "file_extension": ".py",
   "mimetype": "text/x-python",
   "name": "python",
   "nbconvert_exporter": "python",
   "pygments_lexer": "ipython3",
   "version": "3.12.4"
  }
 },
 "nbformat": 4,
 "nbformat_minor": 2
}
